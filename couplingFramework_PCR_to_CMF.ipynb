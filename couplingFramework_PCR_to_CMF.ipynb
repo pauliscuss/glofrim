{
 "cells": [
  {
   "cell_type": "code",
   "execution_count": null,
   "metadata": {},
   "outputs": [],
   "source": [
    "%matplotlib inline\n",
    "import netCDF4\n",
    "import rasterio\n",
    "import os\n",
    "from datetime import datetime\n",
    "import numpy as np\n",
    "import spotpy\n",
    "import matplotlib.pyplot as plt\n",
    "from os.path import join"
   ]
  },
  {
   "cell_type": "code",
   "execution_count": null,
   "metadata": {},
   "outputs": [],
   "source": [
    "# local libraries\n",
    "from glofrim import PCR_model, CMF_model, DFM_model\n",
    "from glofrim.utils import config_to_dict, determineSteps\n",
    "%config Application.log_level=\"INFO\""
   ]
  },
  {
   "cell_type": "code",
   "execution_count": null,
   "metadata": {},
   "outputs": [],
   "source": [
    "# IMPORT MODEL SETTINGS FROM INI-FILE\n",
    "argv1 = r'couplingSettings.set'\n",
    "argv2 = r'modelPaths.env'\n",
    "\n",
    "# parse set/ini-file with central/general settings for coupling framework\n",
    "config = config_to_dict(argv1)\n",
    "# parse env-file for user-specific paths and environmental variables\n",
    "envs = config_to_dict(argv2)\n",
    "# combine\n",
    "config.update(envs)\n",
    "options = config\n",
    "# parse dates\n",
    "start_date = datetime.strptime(options['numerical_settings']['startTime'], '%Y-%m-%d')\n",
    "end_date = datetime.strptime(options['numerical_settings']['endTime'], '%Y-%m-%d')\n",
    "print start_date\n",
    "print end_date\n",
    "timeSteps = determineSteps(start_date, end_date)\n",
    "print timeSteps"
   ]
  },
  {
   "cell_type": "code",
   "execution_count": null,
   "metadata": {},
   "outputs": [],
   "source": [
    "# setup output dir\n",
    "in_dir = options['GENERAL']['inputDir']\n",
    "out_dir = options['GENERAL']['outputDir'] + 'PCR2DFM/'\n",
    "if not os.path.isdir(out_dir):\n",
    "    os.mkdir(out_dir)\n",
    "print(out_dir)\n",
    "print(in_dir)"
   ]
  },
  {
   "cell_type": "markdown",
   "metadata": {},
   "source": [
    "## create PCR model BMI object"
   ]
  },
  {
   "cell_type": "markdown",
   "metadata": {},
   "source": [
    "Note that we use a two step initializiation. in the first step the bmi object is initialized and the model config file is read into memory. This config file can then be changed offline before the model is initialized. This allows for change model input files and setting based on the model coupling."
   ]
  },
  {
   "cell_type": "code",
   "execution_count": null,
   "metadata": {
    "scrolled": true
   },
   "outputs": [],
   "source": [
    "PCR_config_fn = os.path.join(in_dir, options['hydrologic_model']['config_file'])\n",
    "PCR_in_dir = os.path.join(os.path.dirname(PCR_config_fn), 'input30min')\n",
    "PCR_out_dir = os.path.join(out_dir, 'PCR')\n",
    "print(PCR_in_dir)\n",
    "print(PCR_config_fn)\n",
    "print(PCR_out_dir)\n",
    "\n",
    "PCR_bmi = PCR_model(PCR_config_fn, PCR_in_dir, PCR_out_dir,\n",
    "                            start_date, end_date,)\n"
   ]
  },
  {
   "cell_type": "markdown",
   "metadata": {},
   "source": [
    "The illustrate the two-step initialization, the model config file is shown"
   ]
  },
  {
   "cell_type": "code",
   "execution_count": null,
   "metadata": {},
   "outputs": [],
   "source": [
    "PCR_bmi.model_config"
   ]
  },
  {
   "cell_type": "markdown",
   "metadata": {},
   "source": [
    "## create CMF model BMi object"
   ]
  },
  {
   "cell_type": "code",
   "execution_count": null,
   "metadata": {},
   "outputs": [],
   "source": [
    "CMF_engine = options['CMF_engine']['CMF_path']\n",
    "print(CMF_engine)\n",
    "CMF_config_fn = os.path.join(in_dir, options['routing_model']['model_file'])\n",
    "CMF_model_dir = os.path.dirname(CMF_config_fn)\n",
    "CMF_out_dir = os.path.join(out_dir, 'CMF')\n",
    "print(CMF_out_dir)\n",
    "CMF_bmi = CMF_model(CMF_engine, CMF_config_fn, CMF_model_dir, CMF_out_dir,\n",
    "                         start_date, end_date, dt=86400)\n"
   ]
  },
  {
   "cell_type": "markdown",
   "metadata": {},
   "source": [
    "## couple grids based on CMF inpmat file"
   ]
  },
  {
   "cell_type": "code",
   "execution_count": null,
   "metadata": {},
   "outputs": [],
   "source": [
    "# couple\n",
    "PCR_bmi.couple_grid_to_grid(CMF_bmi)"
   ]
  },
  {
   "cell_type": "markdown",
   "metadata": {},
   "source": [
    "## initialize models"
   ]
  },
  {
   "cell_type": "code",
   "execution_count": null,
   "metadata": {},
   "outputs": [],
   "source": [
    "# initialize model at CMF_out_dir after inpmat has been set in the grid_to_grid coupling function.\n",
    "CMF_bmi.initialize()\n",
    "# initialize model \n",
    "PCR_bmi.initialize()"
   ]
  },
  {
   "cell_type": "markdown",
   "metadata": {},
   "source": [
    "## run coupled PCR - CMF model"
   ]
  },
  {
   "cell_type": "code",
   "execution_count": null,
   "metadata": {},
   "outputs": [],
   "source": [
    "#- get upsteram area at comparison point in CMF\n",
    "#upArea = np.fromfile(r'/home/jannis/PhD/code/GLOFRIMplusCAMA/glofrim/test_Elbe/CMF_Elbe/uparea.bin', 'f').reshape(28,40)\n",
    "upArea = np.fromfile(join(in_dir, r'CMF_Elbe/uparea.bin'), 'f').reshape(28,40)\n",
    "plt.imshow(upArea)\n",
    "plt.colorbar(orientation='horizontal')"
   ]
  },
  {
   "cell_type": "code",
   "execution_count": null,
   "metadata": {},
   "outputs": [],
   "source": [
    "#- check whether upstream area at chosen location is at the upper end\n",
    "#- upstream area according to GRDC: 131950 km2 = 1.31950e11 m2\n",
    "xCMFout = 6\n",
    "yCMFout = 13\n",
    "print (upArea[xCMFout, yCMFout])"
   ]
  },
  {
   "cell_type": "code",
   "execution_count": null,
   "metadata": {},
   "outputs": [],
   "source": [
    "# create file for writing CMF output\n",
    "cmf_outFile = os.path.join(CMF_out_dir, 'qsim_CFM_at_location_' + str(xCMFout) + '_' + str(yCMFout) + '.txt')\n",
    "cmf_of = open(cmf_outFile, 'w')\n",
    "print (cmf_of)"
   ]
  },
  {
   "cell_type": "code",
   "execution_count": null,
   "metadata": {
    "scrolled": true
   },
   "outputs": [],
   "source": [
    "# run coupled model for 20 timesteps\n",
    "def update_states():\n",
    "    \"coupling runoff between CMFan PCR model\"\n",
    "#     runoff = PCR_bmi.get_var('landSurfaceRunoff')\n",
    "    runoff = PCR_bmi.get_var('runoff')\n",
    "    runoff = np.where(np.isnan(runoff), 0, runoff)\n",
    "    CMF_bmi.set_var(\"roffin\", runoff)\n",
    "        \n",
    "tStart = datetime.now()\n",
    "for i in range(timeSteps):\n",
    "# for i in range(10):\n",
    "    PCR_bmi.update()\n",
    "    update_states()\n",
    "    CMF_bmi.update()  \n",
    "    outflw_temp = np.copy(CMF_bmi.get_var('outflw'))[xCMFout, yCMFout]\n",
    "    cmf_of.write(str(outflw_temp) + os.linesep)\n",
    "tEnd = datetime.now()\n",
    "cmf_of.close()"
   ]
  },
  {
   "cell_type": "code",
   "execution_count": null,
   "metadata": {},
   "outputs": [],
   "source": [
    "CMF_logfile = os.path.join(CMF_out_dir, 'out/run_2000.log')\n",
    "cmf_lf = open(CMF_logfile, 'r')\n",
    "WB_error = float(cmf_lf.readlines()[-1].split()[-2]) * 10e9\n",
    "print('Water balance error in CMF: {} m3'.format(WB_error))\n"
   ]
  },
  {
   "cell_type": "code",
   "execution_count": null,
   "metadata": {},
   "outputs": [],
   "source": [
    "print 'start time coupling: ', tStart\n",
    "print 'end time coupling: ', tEnd\n",
    "print 'average time per update PCR->CMF->DFM: ', abs((tEnd - tStart)) / timeSteps"
   ]
  },
  {
   "cell_type": "code",
   "execution_count": null,
   "metadata": {
    "scrolled": true
   },
   "outputs": [],
   "source": [
    "%matplotlib inline\n",
    "import matplotlib.pyplot as plt\n",
    "\n",
    "# PCR_bmi.update()\n",
    "# routingModel.update_states()\n",
    "# routingModel.update() \n",
    "\n",
    "runoff = PCR_bmi.get_var('landSurfaceRunoff')\n",
    "outflw = CMF_bmi.get_var('outflw')\n",
    "outflw = np.ma.masked_greater(outflw, 1.e19)\n",
    "rivsto = CMF_bmi.get_var('rivsto_out')\n",
    "rivsto = np.ma.masked_greater(rivsto, 1.e19)\n",
    "\n",
    "fig = plt.figure(figsize=(15, 5))\n",
    "a=fig.add_subplot(1,3,1)\n",
    "imgplot = plt.imshow(runoff)\n",
    "a.set_title('PCR runoff')\n",
    "plt.colorbar(orientation ='horizontal')\n",
    "a=fig.add_subplot(1,3,2)\n",
    "imgplot = plt.imshow(outflw)\n",
    "a.set_title('CMF outflw')\n",
    "plt.colorbar(orientation='horizontal')\n",
    "a=fig.add_subplot(1,3,3)\n",
    "imgplot = plt.imshow(rivsto)\n",
    "a.set_title('CMF rivsto')\n",
    "plt.colorbar(orientation='horizontal')"
   ]
  },
  {
   "cell_type": "code",
   "execution_count": null,
   "metadata": {},
   "outputs": [],
   "source": [
    "# finalize model\n",
    "PCR_bmi.finalize()\n",
    "\n",
    "# finalize model\n",
    "CMF_bmi.finalize()"
   ]
  },
  {
   "cell_type": "code",
   "execution_count": null,
   "metadata": {},
   "outputs": [],
   "source": [
    "import matplotlib.dates as mdates\n",
    "from netCDF4 import Dataset\n",
    "\n",
    "#- laod DFM output file (from 1way coupled PCR->DFM run)\n",
    "fo_1way = os.path.join(in_dir, 'DFM_Elbe_VU_1way_his.nc')\n",
    "#- laod DFM output file (from DFM stand alone)\n",
    "fo_stA = os.path.join(in_dir, 'DFM_Elbe_VU_standAlone_his.nc')\n",
    "#- load BfG file\n",
    "vo = os.path.join(in_dir, 'Elbe-W+Q.csv')\n",
    "#- load PCR file\n",
    "po = os.path.join(in_dir, 'Qsim_Elbe_Darchau_30min_2000s_industrial_prefactored.dump')\n",
    "\n",
    "#- extract BfG data for NeuDarchau\n",
    "vd = np.loadtxt(vo, unpack=True, converters = {0: mdates.strpdate2num('%d-%m-%y')}, delimiter=';', skiprows=4)\n",
    "qobs_ND = vd[1]\n",
    "\n",
    "#- estract PCR data\n",
    "pd = np.loadtxt(po, unpack=True, skiprows=4)\n",
    "PCR_ND = pd[1]\n",
    "PCR_ND = PCR_ND[:]\n",
    "\n",
    "#- extrat CMF data\n",
    "cd = np.loadtxt(cmf_outFile, unpack=True)\n",
    "\n",
    "#- extract simulated discharge from nc-file for 1way PCR->DFM\n",
    "no_1way = Dataset(fo_1way, 'r')\n",
    "qsim_1way = no_1way.variables['cross_section_discharge'][:]\n",
    "#- split up to different cross-sectiosn\n",
    "qsim_upBC_1way = np.absolute(qsim_1way[:,2])\n",
    "qsim_ND_1way = np.absolute(qsim_1way[:,0])\n",
    "qsim_downBC_1way = np.absolute(qsim_1way[:,1])\n",
    "\n",
    "#- extract simulated discharge from nc-file for DFM standalone\n",
    "no_stA = Dataset(fo_stA, 'r')\n",
    "qsim_stA = no_stA.variables['cross_section_discharge'][:]\n",
    "#- split up to different cross-sectiosn\n",
    "qsim_upBC_stA = np.absolute(qsim_stA[:,2])\n",
    "qsim_ND_stA = np.absolute(qsim_stA[:,0])\n",
    "qsim_downBC_stA = np.absolute(qsim_stA[:,1])\n",
    "\n",
    "#- limit to list with least entries\n",
    "minLength = min(len(qsim_ND_1way), len(qsim_ND_stA), len(PCR_ND), len(cd))\n",
    "if len(qobs_ND) > len(cd):\n",
    "    qobs_ND = qobs_ND[:minLength]\n",
    "    PCR_ND = PCR_ND[:minLength]\n",
    "    qsim_ND_1way = qsim_ND_1way[:minLength]\n",
    "    qsim_ND_stA = qsim_ND_stA[:minLength]\n",
    "    cd = cd[:minLength]\n",
    "\n",
    "#- computed KGE at NeuDarchau\n",
    "KGE_ND_1way = spotpy.objectivefunctions.kge(qobs_ND, qsim_ND_1way)\n",
    "KGE_ND_1way = np.round(KGE_ND_1way,2)\n",
    "KGE_ND_stA = spotpy.objectivefunctions.kge(qobs_ND, qsim_ND_stA)\n",
    "KGE_ND_stA = np.round(KGE_ND_stA,2)\n",
    "KGE_ND_PCR = spotpy.objectivefunctions.kge(qobs_ND, PCR_ND)\n",
    "KGE_ND_PCR = np.round(KGE_ND_PCR,2)\n",
    "KGE_ND_CMF = spotpy.objectivefunctions.kge(qobs_ND, cd)\n",
    "KGE_ND_CMF = np.round(KGE_ND_CMF,2)\n",
    "\n",
    "#- plot\n",
    "plt.figure(figsize=(16,8))\n",
    "# plt.plot(qsim_downBC, ':', c='r', label = 'Qsim downBC')\n",
    "plt.plot(qsim_ND_stA, 'g', label = 'DFM')\n",
    "plt.plot(qsim_ND_1way, 'r', label = 'PCR->DFM')\n",
    "# plt.plot(qsim_downBC, ':',  c='k', label = 'Qsim downBC')\n",
    "plt.plot(PCR_ND, ':',label = 'PCR')\n",
    "plt.plot(cd, c='c', label = 'PCR->CMF')\n",
    "plt.plot(qobs_ND, 'm', label = 'OBS')\n",
    "plt.text(minLength+1,4900, 'KGEs') \n",
    "plt.text(minLength+1,4750, 'PCR : '+str(KGE_ND_PCR))\n",
    "plt.text(minLength+1,4600, 'DFM : '+str(KGE_ND_stA))\n",
    "plt.text(minLength+1,4450, 'PCR->DFM : '+str(KGE_ND_1way))\n",
    "plt.text(minLength+1,4300, 'PCR->CMF : '+str(KGE_ND_CMF))\n",
    "plt.legend(ncol=2, loc=1)\n",
    "plt.xlim(0, minLength)\n",
    "plt.ylim(0, 5000)\n",
    "plt.ylabel('discharge [m3/s]')\n",
    "plt.xlabel('timesteps since '+str(start_date))\n",
    "plt.savefig(os.path.join(out_dir, 'compareAndvalidate_Qsim_PCR2CMF.png'), dpi=300)"
   ]
  },
  {
   "cell_type": "code",
   "execution_count": null,
   "metadata": {},
   "outputs": [],
   "source": [
    "plt.figure(figsize=(16,8))\n",
    "plt.plot(PCR_ND, 'r',label = 'PCR')\n",
    "plt.plot(cd, 'b', label = 'PCR->CMF')\n",
    "plt.plot(qobs_ND, ':', c='m', label = 'OBS')\n",
    "plt.legend(loc=1)\n",
    "plt.xlim(0, minLength)\n",
    "plt.ylim(0, 5000)\n",
    "plt.ylabel('discharge [m3/s]')\n",
    "plt.xlabel('timesteps since '+str(start_date))"
   ]
  },
  {
   "cell_type": "code",
   "execution_count": null,
   "metadata": {},
   "outputs": [],
   "source": [
    "plt.figure(figsize=(16,8))\n",
    "plt.plot(qsim_ND_1way, 'r',label = 'PCR->DFM')\n",
    "plt.plot(cd, 'b', label = 'PCR->CMF')\n",
    "plt.plot(qobs_ND, ':', c='m', label = 'OBS')\n",
    "plt.legend(loc=1)\n",
    "plt.xlim(0, minLength)\n",
    "plt.ylim(0, 5000)\n",
    "plt.ylabel('discharge [m3/s]')\n",
    "plt.xlabel('timesteps since '+str(start_date))"
   ]
  },
  {
   "cell_type": "code",
   "execution_count": null,
   "metadata": {},
   "outputs": [],
   "source": []
  }
 ],
 "metadata": {
  "anaconda-cloud": {},
  "kernelspec": {
   "display_name": "Python [default]",
   "language": "python",
   "name": "python2"
  },
  "language_info": {
   "codemirror_mode": {
    "name": "ipython",
    "version": 2
   },
   "file_extension": ".py",
   "mimetype": "text/x-python",
   "name": "python",
   "nbconvert_exporter": "python",
   "pygments_lexer": "ipython2",
   "version": "2.7.15"
  }
 },
 "nbformat": 4,
 "nbformat_minor": 2
}
